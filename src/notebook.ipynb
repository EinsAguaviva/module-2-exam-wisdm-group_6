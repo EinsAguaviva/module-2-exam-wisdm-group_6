{
 "cells": [
  {
   "cell_type": "markdown",
   "metadata": {},
   "source": [
    "# WISDM Module Exam\n",
    "\n",
    "### Instructions\n",
    "Modify this notebook to compose your model. You may use additional `.py` files within this folder, `src/` for composing your framework."
   ]
  },
  {
   "cell_type": "code",
   "execution_count": null,
   "metadata": {},
   "outputs": [],
   "source": [
    "# Write your code here"
   ]
  }
 ],
 "metadata": {
  "language_info": {
   "name": "python"
  }
 },
 "nbformat": 4,
 "nbformat_minor": 2
}
